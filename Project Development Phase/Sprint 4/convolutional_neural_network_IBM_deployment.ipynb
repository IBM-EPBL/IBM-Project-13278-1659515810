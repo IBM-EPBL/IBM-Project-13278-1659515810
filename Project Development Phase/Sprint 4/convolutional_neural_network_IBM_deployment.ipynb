{
  "cells": [
    {
      "metadata": {
        "scrolled": true,
        "id": "zkByPkB58Dgt",
        "outputId": "8e03fd90-544d-4299-bd6b-48d79397c4fd"
      },
      "cell_type": "code",
      "source": [
        "pwd"
      ],
      "execution_count": null,
      "outputs": [
        {
          "output_type": "execute_result",
          "execution_count": 4,
          "data": {
            "text/plain": "'/home/wsuser/work'"
          },
          "metadata": {}
        }
      ]
    },
    {
      "metadata": {
        "id": "Ezx4HmbE8Dg4"
      },
      "cell_type": "markdown",
      "source": [
        "# INSTALLING THE KERAS ,INSTALLING THE TENSORFLOW"
      ]
    },
    {
      "metadata": {
        "id": "LtqElxTGp776"
      },
      "cell_type": "code",
      "source": [
        "!pip install Keras==2.2.4\n",
        "!pip install tensorflow==1.14.0"
      ],
      "execution_count": null,
      "outputs": []
    },
    {
      "metadata": {
        "id": "UfHapwDuvCCz"
      },
      "cell_type": "markdown",
      "source": [
        "IMPORTING LIBRARIES TO BUILD MODEL"
      ]
    },
    {
      "metadata": {
        "id": "vMFe_D3F8DhA"
      },
      "cell_type": "code",
      "source": [
        "\n",
        "import os, types\n",
        "import pandas as pd\n",
        "from botocore.client import Config\n",
        "import ibm_boto3\n",
        "\n",
        "def __iter__(self): return 0\n",
        "\n",
        "# @hidden_cell\n",
        "# The following code accesses a file in your IBM Cloud Object Storage. It includes your credentials.\n",
        "# You might want to remove those credentials before you share the notebook.\n",
        "cos_client = ibm_boto3.client(service_name='s3',\n",
        "    ibm_api_key_id='3B7dVxWHC4tUhclAzzMVp-PLFkh2zf75LS_MfwZFmWQH',\n",
        "    ibm_auth_endpoint=\"https://iam.cloud.ibm.com/oidc/token\",\n",
        "    config=Config(signature_version='oauth'),\n",
        "    endpoint_url='https://s3.private.us.cloud-object-storage.appdomain.cloud')\n",
        "\n",
        "bucket = 'imageclassification-donotdelete-pr-hszmh9qmqryfb8'\n",
        "object_key = 'convolutional neural network IBM deployment.ipynb'\n",
        "\n",
        "streaming_body_1 = cos_client.get_object(Bucket=bucket, Key=object_key)['Body']\n",
        "\n",
        "# Your data file was loaded into a botocore.response.StreamingBody object.\n",
        "# Please read the documentation of ibm_boto3 and pandas to learn more about the possibilities to load the data.\n",
        "# ibm_boto3 documentation: https://ibm.github.io/ibm-cos-sdk-python/\n",
        "# pandas documentation: http://pandas.pydata.org/\n"
      ],
      "execution_count": null,
      "outputs": []
    },
    {
      "metadata": {
        "id": "W0LtuxvVvDTT"
      },
      "cell_type": "code",
      "source": [
        "from keras.models import Sequential #api, se,\n",
        "from keras.layers import Dense #add layers\n",
        "from keras.layers import Convolution2D # con\n",
        "from keras.layers import MaxPooling2D#\n",
        "from keras.layers import Flatten\n"
      ],
      "execution_count": null,
      "outputs": []
    },
    {
      "metadata": {
        "id": "FoGFluu63iKM"
      },
      "cell_type": "markdown",
      "source": [
        "UNZIPPING THE DATASET"
      ]
    },
    {
      "metadata": {
        "id": "gwQRyjxE3hZu"
      },
      "cell_type": "code",
      "source": [
        "from io import BytesIO\n",
        "import zipfile\n",
        "unzip = zipfile.ZipFile(BytesIO(streaming_body_5.read()),'r')\n",
        "file_paths = unzip.namelist()\n",
        "for path in file_paths:\n",
        "    unzip.extract(path)"
      ],
      "execution_count": null,
      "outputs": []
    },
    {
      "metadata": {
        "id": "aWWVtn1V8DhL",
        "outputId": "1afbb8f0-a531-4f76-97c8-af88577d8104"
      },
      "cell_type": "code",
      "source": [
        "pwd"
      ],
      "execution_count": null,
      "outputs": [
        {
          "output_type": "execute_result",
          "execution_count": 18,
          "data": {
            "text/plain": "'/home/wsuser/work'"
          },
          "metadata": {}
        }
      ]
    },
    {
      "metadata": {
        "id": "OiAzLCml38cs"
      },
      "cell_type": "code",
      "source": [
        "import os\n",
        "filenamer = os.listdir('/home/wsuser/work/Dataset/training_set')"
      ],
      "execution_count": null,
      "outputs": []
    },
    {
      "metadata": {
        "id": "JAozDvBv4T-M"
      },
      "cell_type": "markdown",
      "source": [
        "TRAINING AND TESTING IMAGES UNDER CLASSES"
      ]
    },
    {
      "metadata": {
        "id": "CqOmHPEz8DhO",
        "outputId": "4d2ff0f2-49b1-4b6d-9493-377d9aedf887"
      },
      "cell_type": "code",
      "source": [
        "x_train=train_datagen.flow_from_directory('/home/wsuser/work/Dataset/training_set',target_size=(64,64),batch_size=32,class_mode='binary')\n"
      ],
      "execution_count": null,
      "outputs": [
        {
          "output_type": "stream",
          "text": "Found 15750 images belonging to 9 classes.\n",
          "name": "stdout"
        }
      ]
    },
    {
      "metadata": {
        "id": "WNIFP4uR8DhO",
        "outputId": "106ca606-ab0a-4ce1-caa4-c73a1241e40c"
      },
      "cell_type": "code",
      "source": [
        "x_test=test_datagen.flow_from_directory('/home/wsuser/work/Dataset/test_set',target_size=(64,64),batch_size=32,class_mode='binary')"
      ],
      "execution_count": null,
      "outputs": [
        {
          "output_type": "stream",
          "text": "Found 2250 images belonging to 9 classes.\n",
          "name": "stdout"
        }
      ]
    },
    {
      "metadata": {
        "id": "uZZkgmhkCSFN"
      },
      "cell_type": "markdown",
      "source": [
        "TOTAL CLASSES UNDER TRAINING AND TESTING"
      ]
    },
    {
      "metadata": {
        "colab": {
          "base_uri": "https://localhost:8080/"
        },
        "id": "oNz3ruVJCL-t",
        "outputId": "dcc39c1f-d16c-4500-b733-01e13ca1fac8"
      },
      "cell_type": "code",
      "source": [
        "x_train.class_indices"
      ],
      "execution_count": null,
      "outputs": [
        {
          "output_type": "execute_result",
          "execution_count": 55,
          "data": {
            "text/plain": "{'A': 0, 'B': 1, 'C': 2, 'D': 3, 'E': 4, 'F': 5, 'G': 6, 'H': 7, 'I': 8}"
          },
          "metadata": {}
        }
      ]
    },
    {
      "metadata": {
        "colab": {
          "base_uri": "https://localhost:8080/"
        },
        "id": "sml3LOu-CWXm",
        "outputId": "55b7533a-3b88-4e80-ce20-6fa7df87163b"
      },
      "cell_type": "code",
      "source": [
        "x_test.class_indices"
      ],
      "execution_count": null,
      "outputs": [
        {
          "output_type": "execute_result",
          "execution_count": 56,
          "data": {
            "text/plain": "{'A': 0, 'B': 1, 'C': 2, 'D': 3, 'E': 4, 'F': 5, 'G': 6, 'H': 7, 'I': 8}"
          },
          "metadata": {}
        }
      ]
    },
    {
      "metadata": {
        "id": "_dUDrQJaCltv"
      },
      "cell_type": "markdown",
      "source": [
        "MODEL BUILDING USING CNN"
      ]
    },
    {
      "metadata": {
        "id": "wNj-N5miCmsV"
      },
      "cell_type": "code",
      "source": [
        "model=Sequential()"
      ],
      "execution_count": null,
      "outputs": []
    },
    {
      "metadata": {
        "id": "Zk-j2zF6CsLG"
      },
      "cell_type": "code",
      "source": [
        "model.add(Convolution2D(32,(3,3),input_shape = (64,64,3),activation = 'relu'))"
      ],
      "execution_count": null,
      "outputs": []
    },
    {
      "metadata": {
        "id": "ZZ9nwNZCCxsG"
      },
      "cell_type": "code",
      "source": [
        "model.add(MaxPooling2D(pool_size=(2,2)))"
      ],
      "execution_count": null,
      "outputs": []
    },
    {
      "metadata": {
        "id": "Y3olPdFa8DhT"
      },
      "cell_type": "code",
      "source": [
        "model.add(Flatten())"
      ],
      "execution_count": null,
      "outputs": []
    },
    {
      "metadata": {
        "id": "ZSFxwYQP8DhT",
        "outputId": "a4f6b651-bd4a-424b-b548-1eeeb19994e3"
      },
      "cell_type": "code",
      "source": [
        "model.summary()"
      ],
      "execution_count": null,
      "outputs": [
        {
          "output_type": "stream",
          "text": "Model: \"sequential_3\"\n_________________________________________________________________\n Layer (type)                Output Shape              Param #   \n=================================================================\n conv2d_3 (Conv2D)           (None, 62, 62, 32)        896       \n                                                                 \n max_pooling2d_5 (MaxPooling  (None, 31, 31, 32)       0         \n 2D)                                                             \n                                                                 \n flatten_3 (Flatten)         (None, 30752)             0         \n                                                                 \n=================================================================\nTotal params: 896\nTrainable params: 896\nNon-trainable params: 0\n_________________________________________________________________\n",
          "name": "stdout"
        }
      ]
    },
    {
      "metadata": {
        "id": "qOYQdU-wC2d_"
      },
      "cell_type": "markdown",
      "source": [
        "ADDING LAYERS FOR MODEL TRAINING"
      ]
    },
    {
      "metadata": {
        "id": "diLBExVKC581"
      },
      "cell_type": "markdown",
      "source": [
        "HIDDEN LAYERS"
      ]
    },
    {
      "metadata": {
        "id": "dJiH7aYjC3Kt"
      },
      "cell_type": "code",
      "source": [
        "model.add(Dense(units = 150, activation = 'relu'))\n",
        "#model.add(Dense(unit = 150,init = \"uniform\" activation='softmax'))"
      ],
      "execution_count": null,
      "outputs": []
    },
    {
      "metadata": {
        "id": "5NAwSTXWC9vt"
      },
      "cell_type": "markdown",
      "source": [
        "OUTPUT LAYERS"
      ]
    },
    {
      "metadata": {
        "id": "KK5V8eoBC_0t"
      },
      "cell_type": "code",
      "source": [
        "model.add(Dense(units = 5, activation='softmax'))"
      ],
      "execution_count": null,
      "outputs": []
    },
    {
      "metadata": {
        "id": "Kfz5GDn_DCzx"
      },
      "cell_type": "markdown",
      "source": [
        "OPTIMIZING THE MODEL"
      ]
    },
    {
      "metadata": {
        "id": "dluoFlX9DLH2"
      },
      "cell_type": "code",
      "source": [
        "model.compile(optimizer = \"adam\",loss = \"categorical_crossentropy\",metrics = ['accuracy'])\n"
      ],
      "execution_count": null,
      "outputs": []
    },
    {
      "metadata": {
        "id": "AT1_YKqh8DhX",
        "outputId": "cf7fdfea-26d9-43f4-8cae-346ee10ec62b"
      },
      "cell_type": "code",
      "source": [
        "len(x_train)"
      ],
      "execution_count": null,
      "outputs": [
        {
          "output_type": "execute_result",
          "execution_count": 90,
          "data": {
            "text/plain": "493"
          },
          "metadata": {}
        }
      ]
    },
    {
      "metadata": {
        "id": "u2eP2vCE8DhX",
        "outputId": "65ebc4b5-8233-4cca-ee49-e3abcd117e2f"
      },
      "cell_type": "code",
      "source": [
        "len(x_test)"
      ],
      "execution_count": null,
      "outputs": [
        {
          "output_type": "execute_result",
          "execution_count": 91,
          "data": {
            "text/plain": "71"
          },
          "metadata": {}
        }
      ]
    },
    {
      "metadata": {
        "id": "Fu7_C8Xd8DhY"
      },
      "cell_type": "code",
      "source": [
        "model.fit_generator(x_train,steps_per_epoch=493,epochs=10,validation_data=x_test,validation_steps=71)\n",
        " "
      ],
      "execution_count": null,
      "outputs": []
    },
    {
      "metadata": {
        "id": "AITCJjNQDike"
      },
      "cell_type": "markdown",
      "source": [
        "FITTING THE MODEL"
      ]
    },
    {
      "metadata": {
        "colab": {
          "base_uri": "https://localhost:8080/",
          "height": 35
        },
        "id": "_BOs9ApfL82B",
        "outputId": "41d5157e-a0cb-4181-c214-426d5ee754c2"
      },
      "cell_type": "code",
      "source": [
        "'/home/wsuser/work/Dataset'"
      ],
      "execution_count": null,
      "outputs": [
        {
          "output_type": "execute_result",
          "data": {
            "text/plain": "'/home/wsuser/work/Dataset'",
            "application/vnd.google.colaboratory.intrinsic+json": {
              "type": "string"
            }
          },
          "metadata": {},
          "execution_count": 106
        }
      ]
    },
    {
      "metadata": {
        "id": "TdG9r0gYMClP"
      },
      "cell_type": "code",
      "source": [
        "model.save('Dataset.h5')"
      ],
      "execution_count": null,
      "outputs": []
    },
    {
      "metadata": {
        "id": "hfA6I11rMK2K"
      },
      "cell_type": "markdown",
      "source": [
        "CONVERTING ZIP FILE TO TAR FILE FOR LOCAL USE."
      ]
    },
    {
      "metadata": {
        "colab": {
          "base_uri": "https://localhost:8080/"
        },
        "id": "1MqShLcdMHVP",
        "outputId": "3a64475d-befe-4c0a-dcbf-97050dc051a3"
      },
      "cell_type": "code",
      "source": [
        "#converting the model to tar\n",
        "!tar -zcvf image.Classification.model_new.tgz Dataset.h5"
      ],
      "execution_count": null,
      "outputs": [
        {
          "output_type": "stream",
          "text": "Dataset.h5\r\n",
          "name": "stdout"
        }
      ]
    },
    {
      "metadata": {
        "colab": {
          "base_uri": "https://localhost:8080/"
        },
        "id": "KLEWMRtLMQCo",
        "outputId": "c7729aba-117f-4ccd-e5ca-439279a7a1b3"
      },
      "cell_type": "code",
      "source": [
        "ls -1"
      ],
      "execution_count": null,
      "outputs": [
        {
          "output_type": "stream",
          "text": "\u001b[0m\u001b[01;34mDataset\u001b[0m/\r\nDataset.h5\r\nimage.Classification.model_new.tgz\r\n",
          "name": "stdout"
        }
      ]
    },
    {
      "metadata": {
        "id": "k-KQgKtHMVEo"
      },
      "cell_type": "markdown",
      "source": [
        "INSTALLING WATSON MACHINE LEARNING CLIENT SOFTWARE"
      ]
    },
    {
      "metadata": {
        "colab": {
          "base_uri": "https://localhost:8080/",
          "height": 1000
        },
        "id": "iMC6PG6qMWOA",
        "outputId": "7e37c877-71b7-4f80-cea4-922cdbabe924"
      },
      "cell_type": "code",
      "source": [
        "#installing the machine learning repository\n",
        "!pip install watson_machine_learning_client --upgrade"
      ],
      "execution_count": null,
      "outputs": [
        {
          "output_type": "stream",
          "text": "Requirement already satisfied: watson_machine_learning_client in /opt/conda/envs/Python-3.9/lib/python3.9/site-packages (1.0.391)\nRequirement already satisfied: certifi in /opt/conda/envs/Python-3.9/lib/python3.9/site-packages (from watson_machine_learning_client) (2022.9.24)\nRequirement already satisfied: urllib3 in /opt/conda/envs/Python-3.9/lib/python3.9/site-packages (from watson_machine_learning_client) (1.26.7)\nRequirement already satisfied: boto3 in /opt/conda/envs/Python-3.9/lib/python3.9/site-packages (from watson_machine_learning_client) (1.18.21)\nRequirement already satisfied: lomond in /opt/conda/envs/Python-3.9/lib/python3.9/site-packages (from watson_machine_learning_client) (0.3.3)\nRequirement already satisfied: ibm-cos-sdk in /opt/conda/envs/Python-3.9/lib/python3.9/site-packages (from watson_machine_learning_client) (2.11.0)\nRequirement already satisfied: tqdm in /opt/conda/envs/Python-3.9/lib/python3.9/site-packages (from watson_machine_learning_client) (4.62.3)\nRequirement already satisfied: requests in /opt/conda/envs/Python-3.9/lib/python3.9/site-packages (from watson_machine_learning_client) (2.26.0)\nRequirement already satisfied: tabulate in /opt/conda/envs/Python-3.9/lib/python3.9/site-packages (from watson_machine_learning_client) (0.8.9)\nRequirement already satisfied: pandas in /opt/conda/envs/Python-3.9/lib/python3.9/site-packages (from watson_machine_learning_client) (1.3.4)\nRequirement already satisfied: botocore<1.22.0,>=1.21.21 in /opt/conda/envs/Python-3.9/lib/python3.9/site-packages (from boto3->watson_machine_learning_client) (1.21.41)\nRequirement already satisfied: jmespath<1.0.0,>=0.7.1 in /opt/conda/envs/Python-3.9/lib/python3.9/site-packages (from boto3->watson_machine_learning_client) (0.10.0)\nRequirement already satisfied: s3transfer<0.6.0,>=0.5.0 in /opt/conda/envs/Python-3.9/lib/python3.9/site-packages (from boto3->watson_machine_learning_client) (0.5.0)\nRequirement already satisfied: python-dateutil<3.0.0,>=2.1 in /opt/conda/envs/Python-3.9/lib/python3.9/site-packages (from botocore<1.22.0,>=1.21.21->boto3->watson_machine_learning_client) (2.8.2)\nRequirement already satisfied: six>=1.5 in /opt/conda/envs/Python-3.9/lib/python3.9/site-packages (from python-dateutil<3.0.0,>=2.1->botocore<1.22.0,>=1.21.21->boto3->watson_machine_learning_client) (1.15.0)\nRequirement already satisfied: ibm-cos-sdk-s3transfer==2.11.0 in /opt/conda/envs/Python-3.9/lib/python3.9/site-packages (from ibm-cos-sdk->watson_machine_learning_client) (2.11.0)\nRequirement already satisfied: ibm-cos-sdk-core==2.11.0 in /opt/conda/envs/Python-3.9/lib/python3.9/site-packages (from ibm-cos-sdk->watson_machine_learning_client) (2.11.0)\nRequirement already satisfied: charset-normalizer~=2.0.0 in /opt/conda/envs/Python-3.9/lib/python3.9/site-packages (from requests->watson_machine_learning_client) (2.0.4)\nRequirement already satisfied: idna<4,>=2.5 in /opt/conda/envs/Python-3.9/lib/python3.9/site-packages (from requests->watson_machine_learning_client) (3.3)\nRequirement already satisfied: pytz>=2017.3 in /opt/conda/envs/Python-3.9/lib/python3.9/site-packages (from pandas->watson_machine_learning_client) (2021.3)\nRequirement already satisfied: numpy>=1.17.3 in /opt/conda/envs/Python-3.9/lib/python3.9/site-packages (from pandas->watson_machine_learning_client) (1.20.3)\n",
          "name": "stdout"
        }
      ]
    },
    {
      "metadata": {
        "id": "juA9s5ed8Dhb"
      },
      "cell_type": "code",
      "source": [
        "from ibm_watson_machine_learning import APIClient\n",
        "url_credentials = {\n",
        "    \"url\": \"https://us-south.ml.cloud.ibm.com\",\n",
        "    #\"apikey\": \"U_Wmkhlpnd_cihpGlGwODg0IU3fsxPfc2TqocvGfrF3d\"\n",
        "    \"apikey\":  \"U_Wmkhlpnd_cihpGlGwODg0IU3fsxPfc2TqocvGfrF3d\"\n",
        "}\n",
        "client = APIClient(url_credentials)"
      ],
      "execution_count": null,
      "outputs": []
    },
    {
      "metadata": {
        "id": "awK9kRPB8Dhb",
        "outputId": "5e5bc407-5335-4678-d0d4-313242b99c69"
      },
      "cell_type": "code",
      "source": [
        "client = APIClient(url_credentials)\n",
        "client\n"
      ],
      "execution_count": null,
      "outputs": [
        {
          "output_type": "execute_result",
          "execution_count": 118,
          "data": {
            "text/plain": "<ibm_watson_machine_learning.client.APIClient at 0x7f75bb690790>"
          },
          "metadata": {}
        }
      ]
    },
    {
      "metadata": {
        "id": "_cDzdruhOe9y"
      },
      "cell_type": "markdown",
      "source": [
        "CREATING API_CLIENT SPACE ID"
      ]
    },
    {
      "metadata": {
        "id": "8d36Iw1ZOh8H"
      },
      "cell_type": "code",
      "source": [
        "def guid_from_space_name(client, space_name):\n",
        "    space = client.spaces.get_details()\n",
        "    return(next(item for item in space['resources'] if item['entity']['name'] == space_name)['metadata']['id'])"
      ],
      "execution_count": null,
      "outputs": []
    },
    {
      "metadata": {
        "colab": {
          "base_uri": "https://localhost:8080/",
          "height": 269
        },
        "id": "TcqsFX6NTRAJ",
        "outputId": "ea9041bd-34cb-41bf-8944-e75033de6936"
      },
      "cell_type": "code",
      "source": [
        "space_uid = guid_from_space_name(client, 'imageclassification')\n",
        "print(\"space UID = \" + space_uid)"
      ],
      "execution_count": null,
      "outputs": [
        {
          "output_type": "stream",
          "text": "space UID = 1df72b67-8c03-4fda-ab22-c60aae26ada4\n",
          "name": "stdout"
        }
      ]
    },
    {
      "metadata": {
        "id": "xJ_6fmKi8Dhc",
        "outputId": "f8bf95a1-a489-497c-80a2-740d59d23403"
      },
      "cell_type": "code",
      "source": [
        "client.set.default_space(space_uid)"
      ],
      "execution_count": null,
      "outputs": [
        {
          "output_type": "execute_result",
          "execution_count": 121,
          "data": {
            "text/plain": "'SUCCESS'"
          },
          "metadata": {}
        }
      ]
    },
    {
      "metadata": {
        "id": "LGwQqVib8Dhc",
        "outputId": "e903007f-296a-4437-bac1-dfa5132601c8"
      },
      "cell_type": "code",
      "source": [
        "client.software_specifications.list(500)"
      ],
      "execution_count": null,
      "outputs": [
        {
          "output_type": "stream",
          "text": "-------------------------------  ------------------------------------  ----\nNAME                             ASSET_ID                              TYPE\ndefault_py3.6                    0062b8c9-8b7d-44a0-a9b9-46c416adcbd9  base\nkernel-spark3.2-scala2.12        020d69ce-7ac1-5e68-ac1a-31189867356a  base\npytorch-onnx_1.3-py3.7-edt       069ea134-3346-5748-b513-49120e15d288  base\nscikit-learn_0.20-py3.6          09c5a1d0-9c1e-4473-a344-eb7b665ff687  base\nspark-mllib_3.0-scala_2.12       09f4cff0-90a7-5899-b9ed-1ef348aebdee  base\npytorch-onnx_rt22.1-py3.9        0b848dd4-e681-5599-be41-b5f6fccc6471  base\nai-function_0.1-py3.6            0cdb0f1e-5376-4f4d-92dd-da3b69aa9bda  base\nshiny-r3.6                       0e6e79df-875e-4f24-8ae9-62dcc2148306  base\ntensorflow_2.4-py3.7-horovod     1092590a-307d-563d-9b62-4eb7d64b3f22  base\npytorch_1.1-py3.6                10ac12d6-6b30-4ccd-8392-3e922c096a92  base\ntensorflow_1.15-py3.6-ddl        111e41b3-de2d-5422-a4d6-bf776828c4b7  base\nautoai-kb_rt22.2-py3.10          125b6d9a-5b1f-5e8d-972a-b251688ccf40  base\nruntime-22.1-py3.9               12b83a17-24d8-5082-900f-0ab31fbfd3cb  base\nscikit-learn_0.22-py3.6          154010fa-5b3b-4ac1-82af-4d5ee5abbc85  base\ndefault_r3.6                     1b70aec3-ab34-4b87-8aa0-a4a3c8296a36  base\npytorch-onnx_1.3-py3.6           1bc6029a-cc97-56da-b8e0-39c3880dbbe7  base\nkernel-spark3.3-r3.6             1c9e5454-f216-59dd-a20e-474a5cdf5988  base\npytorch-onnx_rt22.1-py3.9-edt    1d362186-7ad5-5b59-8b6c-9d0880bde37f  base\ntensorflow_2.1-py3.6             1eb25b84-d6ed-5dde-b6a5-3fbdf1665666  base\nspark-mllib_3.2                  20047f72-0a98-58c7-9ff5-a77b012eb8f5  base\ntensorflow_2.4-py3.8-horovod     217c16f6-178f-56bf-824a-b19f20564c49  base\nruntime-22.1-py3.9-cuda          26215f05-08c3-5a41-a1b0-da66306ce658  base\ndo_py3.8                         295addb5-9ef9-547e-9bf4-92ae3563e720  base\nautoai-ts_3.8-py3.8              2aa0c932-798f-5ae9-abd6-15e0c2402fb5  base\ntensorflow_1.15-py3.6            2b73a275-7cbf-420b-a912-eae7f436e0bc  base\nkernel-spark3.3-py3.9            2b7961e2-e3b1-5a8c-a491-482c8368839a  base\npytorch_1.2-py3.6                2c8ef57d-2687-4b7d-acce-01f94976dac1  base\nspark-mllib_2.3                  2e51f700-bca0-4b0d-88dc-5c6791338875  base\npytorch-onnx_1.1-py3.6-edt       32983cea-3f32-4400-8965-dde874a8d67e  base\nspark-mllib_3.0-py37             36507ebe-8770-55ba-ab2a-eafe787600e9  base\nspark-mllib_2.4                  390d21f8-e58b-4fac-9c55-d7ceda621326  base\nautoai-ts_rt22.2-py3.10          396b2e83-0953-5b86-9a55-7ce1628a406f  base\nxgboost_0.82-py3.6               39e31acd-5f30-41dc-ae44-60233c80306e  base\npytorch-onnx_1.2-py3.6-edt       40589d0e-7019-4e28-8daa-fb03b6f4fe12  base\npytorch-onnx_rt22.2-py3.10       40e73f55-783a-5535-b3fa-0c8b94291431  base\ndefault_r36py38                  41c247d3-45f8-5a71-b065-8580229facf0  base\nautoai-ts_rt22.1-py3.9           4269d26e-07ba-5d40-8f66-2d495b0c71f7  base\nautoai-obm_3.0                   42b92e18-d9ab-567f-988a-4240ba1ed5f7  base\npmml-3.0_4.3                     493bcb95-16f1-5bc5-bee8-81b8af80e9c7  base\nspark-mllib_2.4-r_3.6            49403dff-92e9-4c87-a3d7-a42d0021c095  base\nxgboost_0.90-py3.6               4ff8d6c2-1343-4c18-85e1-689c965304d3  base\npytorch-onnx_1.1-py3.6           50f95b2a-bc16-43bb-bc94-b0bed208c60b  base\nautoai-ts_3.9-py3.8              52c57136-80fa-572e-8728-a5e7cbb42cde  base\nspark-mllib_2.4-scala_2.11       55a70f99-7320-4be5-9fb9-9edb5a443af5  base\nspark-mllib_3.0                  5c1b0ca2-4977-5c2e-9439-ffd44ea8ffe9  base\nautoai-obm_2.0                   5c2e37fa-80b8-5e77-840f-d912469614ee  base\nspss-modeler_18.1                5c3cad7e-507f-4b2a-a9a3-ab53a21dee8b  base\ncuda-py3.8                       5d3232bf-c86b-5df4-a2cd-7bb870a1cd4e  base\nautoai-kb_3.1-py3.7              632d4b22-10aa-5180-88f0-f52dfb6444d7  base\npytorch-onnx_1.7-py3.8           634d3cdc-b562-5bf9-a2d4-ea90a478456b  base\nspark-mllib_2.3-r_3.6            6586b9e3-ccd6-4f92-900f-0f8cb2bd6f0c  base\ntensorflow_2.4-py3.7             65e171d7-72d1-55d9-8ebb-f813d620c9bb  base\nspss-modeler_18.2                687eddc9-028a-4117-b9dd-e57b36f1efa5  base\npytorch-onnx_1.2-py3.6           692a6a4d-2c4d-45ff-a1ed-b167ee55469a  base\nspark-mllib_2.3-scala_2.11       7963efe5-bbec-417e-92cf-0574e21b4e8d  base\nspark-mllib_2.4-py37             7abc992b-b685-532b-a122-a396a3cdbaab  base\ncaffe_1.0-py3.6                  7bb3dbe2-da6e-4145-918d-b6d84aa93b6b  base\npytorch-onnx_1.7-py3.7           812c6631-42b7-5613-982b-02098e6c909c  base\ncuda-py3.6                       82c79ece-4d12-40e6-8787-a7b9e0f62770  base\ntensorflow_1.15-py3.6-horovod    8964680e-d5e4-5bb8-919b-8342c6c0dfd8  base\nhybrid_0.1                       8c1a58c6-62b5-4dc4-987a-df751c2756b6  base\npytorch-onnx_1.3-py3.7           8d5d8a87-a912-54cf-81ec-3914adaa988d  base\ncaffe-ibm_1.0-py3.6              8d863266-7927-4d1e-97d7-56a7f4c0a19b  base\nspss-modeler_17.1                902d0051-84bd-4af6-ab6b-8f6aa6fdeabb  base\ndo_12.10                         9100fd72-8159-4eb9-8a0b-a87e12eefa36  base\ndo_py3.7                         9447fa8b-2051-4d24-9eef-5acb0e3c59f8  base\nspark-mllib_3.0-r_3.6            94bb6052-c837-589d-83f1-f4142f219e32  base\ncuda-py3.7-opence                94e9652b-7f2d-59d5-ba5a-23a414ea488f  base\nnlp-py3.8                        96e60351-99d4-5a1c-9cc0-473ac1b5a864  base\ncuda-py3.7                       9a44990c-1aa1-4c7d-baf8-c4099011741c  base\nhybrid_0.2                       9b3f9040-9cee-4ead-8d7a-780600f542f7  base\nspark-mllib_3.0-py38             9f7a8fc1-4d3c-5e65-ab90-41fa8de2d418  base\nautoai-kb_3.3-py3.7              a545cca3-02df-5c61-9e88-998b09dc79af  base\nspark-mllib_3.0-py39             a6082a27-5acc-5163-b02c-6b96916eb5e0  base\nruntime-22.1-py3.9-do            a7e7dbf1-1d03-5544-994d-e5ec845ce99a  base\ndefault_py3.8                    ab9e1b80-f2ce-592c-a7d2-4f2344f77194  base\ntensorflow_rt22.1-py3.9          acd9c798-6974-5d2f-a657-ce06e986df4d  base\nkernel-spark3.2-py3.9            ad7033ee-794e-58cf-812e-a95f4b64b207  base\nautoai-obm_2.0 with Spark 3.0    af10f35f-69fa-5d66-9bf5-acb58434263a  base\ndefault_py3.7_opence             c2057dd4-f42c-5f77-a02f-72bdbd3282c9  base\ntensorflow_2.1-py3.7             c4032338-2a40-500a-beef-b01ab2667e27  base\ndo_py3.7_opence                  cc8f8976-b74a-551a-bb66-6377f8d865b4  base\nspark-mllib_3.3                  d11f2434-4fc7-58b7-8a62-755da64fdaf8  base\nautoai-kb_3.0-py3.6              d139f196-e04b-5d8b-9140-9a10ca1fa91a  base\nspark-mllib_3.0-py36             d82546d5-dd78-5fbb-9131-2ec309bc56ed  base\nautoai-kb_3.4-py3.8              da9b39c3-758c-5a4f-9cfd-457dd4d8c395  base\nkernel-spark3.2-r3.6             db2fe4d6-d641-5d05-9972-73c654c60e0a  base\nautoai-kb_rt22.1-py3.9           db6afe93-665f-5910-b117-d879897404d9  base\ntensorflow_rt22.1-py3.9-horovod  dda170cc-ca67-5da7-9b7a-cf84c6987fae  base\nautoai-ts_1.0-py3.7              deef04f0-0c42-5147-9711-89f9904299db  base\ntensorflow_2.1-py3.7-horovod     e384fce5-fdd1-53f8-bc71-11326c9c635f  base\ndefault_py3.7                    e4429883-c883-42b6-87a8-f419d64088cd  base\ndo_22.1                          e51999ba-6452-5f1f-8287-17228b88b652  base\nautoai-obm_3.2                   eae86aab-da30-5229-a6a6-1d0d4e368983  base\ntensorflow_rt22.2-py3.10         f65bd165-f057-55de-b5cb-f97cf2c0f393  base\ndo_20.1                          f686cdd9-7904-5f9d-a732-01b0d6b10dc5  base\npytorch-onnx_rt22.2-py3.10-edt   f8a05d07-e7cd-57bb-a10b-23f1d4b837ac  base\nscikit-learn_0.19-py3.6          f963fa9d-4bb7-5652-9c5d-8d9289ef6ad9  base\ntensorflow_2.4-py3.8             fe185c44-9a99-5425-986b-59bd1d2eda46  base\n-------------------------------  ------------------------------------  ----\n",
          "name": "stdout"
        }
      ]
    },
    {
      "metadata": {
        "id": "4uryBk448Dhc",
        "outputId": "38633a67-e22e-402b-b940-27386f02f119"
      },
      "cell_type": "code",
      "source": [
        "software_spec_uid = client.software_specifications.get_uid_by_name(\"tensorflow_rt22.2-py3.10\")\n",
        "software_spec_uid"
      ],
      "execution_count": null,
      "outputs": [
        {
          "output_type": "execute_result",
          "execution_count": 123,
          "data": {
            "text/plain": "'f65bd165-f057-55de-b5cb-f97cf2c0f393'"
          },
          "metadata": {}
        }
      ]
    },
    {
      "cell_type": "markdown",
      "source": [
        "STORING THE MODEL_ID FOR DATASET.H5"
      ],
      "metadata": {
        "id": "GpSTkDu4-Ham"
      }
    },
    {
      "metadata": {
        "id": "5bhX2cCA8Dhd"
      },
      "cell_type": "code",
      "source": [
        "#store the model\n",
        "model_details = client.repository.store_model(model='image.Classification.model_new.tgz',meta_props={\n",
        "    client.repository.ModelMetaNames.NAME: \"CNN\",\n",
        "    client.repository.ModelMetaNames.TYPE: \"keras_2.2.4\",\n",
        "    client.repository.ModelMetaNames.SOFTWARE_SPEC_UID:software_spec_uid}\n",
        "                                             )\n",
        "model_id = client.repository.get_model_uid(model_details)"
      ],
      "execution_count": null,
      "outputs": []
    },
    {
      "cell_type": "code",
      "source": [
        "model_id"
      ],
      "metadata": {
        "id": "PGX4leKO_ByG"
      },
      "execution_count": null,
      "outputs": []
    },
    {
      "cell_type": "code",
      "source": [
        "model.save('Dataset.h5')"
      ],
      "metadata": {
        "id": "Jxjk1DTv-_Ru"
      },
      "execution_count": null,
      "outputs": []
    },
    {
      "cell_type": "markdown",
      "source": [
        "DOWNLOADING THE TAR FILE ON CLIENT REPOSITORY"
      ],
      "metadata": {
        "id": "F0ejZc1e-jil"
      }
    },
    {
      "cell_type": "code",
      "source": [
        "client.repository.download(model_id, 'my_model.tar.gz')\n"
      ],
      "metadata": {
        "id": "bfgtw4Ww-kjm"
      },
      "execution_count": null,
      "outputs": []
    },
    {
      "cell_type": "markdown",
      "source": [
        "TEST THE MODEL"
      ],
      "metadata": {
        "id": "HgEaXMtI_GLW"
      }
    },
    {
      "cell_type": "code",
      "source": [
        "import numpy as np\n",
        "from tensorflow.keras.models import load_model\n",
        "from keras.preprocessing import image"
      ],
      "metadata": {
        "id": "atRVTqi3_HWG"
      },
      "execution_count": 3,
      "outputs": []
    },
    {
      "cell_type": "markdown",
      "source": [
        "LOADING THE DATASET"
      ],
      "metadata": {
        "id": "E3PN2FhR_Ncd"
      }
    },
    {
      "cell_type": "code",
      "source": [
        "#Load the model\n",
        "model=load_model('Dataset.h5')"
      ],
      "metadata": {
        "id": "88aNI8jl-no-"
      },
      "execution_count": null,
      "outputs": []
    },
    {
      "cell_type": "markdown",
      "source": [
        "ADDING STREAMING_BODY FOR TEST IMAGE"
      ],
      "metadata": {
        "id": "2487-Qxv_dtl"
      }
    },
    {
      "cell_type": "code",
      "source": [
        "import os, types\n",
        "import pandas as pd\n",
        "from botocore.client import Config\n",
        "import ibm_boto3\n",
        "\n",
        "def __iter__(self): return 0\n",
        "\n",
        "# @hidden_cell\n",
        "# The following code accesses a file in your IBM Cloud Object Storage. It includes your credentials.\n",
        "# You might want to remove those credentials before you share the notebook.\n",
        "cos_client = ibm_boto3.client(service_name='s3',\n",
        "    ibm_api_key_id='aqprHZFuH38ECUn869hHk4qyvS_iKJfrZAWUJJQ-mQKx',\n",
        "    ibm_auth_endpoint=\"https://iam.cloud.ibm.com/oidc/token\",\n",
        "    config=Config(signature_version='oauth'),\n",
        "    endpoint_url='https://s3.private.us.cloud-object-storage.appdomain.cloud')\n",
        "\n",
        "bucket = 'realtimecommunicationforspecially-donotdelete-pr-rfqndcvwgch6fu'\n",
        "object_key = '1.png'\n",
        "\n",
        "streaming_body_5 = cos_client.get_object(Bucket=bucket, Key=object_key)['Body']\n",
        "\n",
        "# Your data file was loaded into a botocore.response.StreamingBody object.\n",
        "# Please read the documentation of ibm_boto3 and pandas to learn more about the possibilities to load the data.\n",
        "# ibm_boto3 documentation: https://ibm.github.io/ibm-cos-sdk-python/\n",
        "# pandas documentation: http://pandas.pydata.org/"
      ],
      "metadata": {
        "id": "ZW-i6BMg_fVV"
      },
      "execution_count": null,
      "outputs": []
    },
    {
      "cell_type": "code",
      "source": [
        "from google.colab import drive\n",
        "drive.mount('/content/drive')"
      ],
      "metadata": {
        "id": "ccUv5HLxE2EQ"
      },
      "execution_count": null,
      "outputs": []
    },
    {
      "cell_type": "markdown",
      "source": [
        "TESTING ON SEVERAL TESTING IMAGES"
      ],
      "metadata": {
        "id": "3K7Xbz3B_q2N"
      }
    },
    {
      "cell_type": "code",
      "source": [
        "img = image.load_img(streaming_body_5,target_size=(64, 64))\n",
        "#img=image.load_img(\"/home/wsuser/work/1\",target_size=(64,64))"
      ],
      "metadata": {
        "id": "iyX9lfyA_okl"
      },
      "execution_count": null,
      "outputs": []
    },
    {
      "cell_type": "code",
      "source": [
        "ls"
      ],
      "metadata": {
        "id": "ow928Oa1_a1N"
      },
      "execution_count": null,
      "outputs": []
    },
    {
      "cell_type": "code",
      "source": [
        "img=image.load_img(r\"/home/wsuser/work/Dataset/test_set/A/1.png\")"
      ],
      "metadata": {
        "id": "0EGlykETAUZ2"
      },
      "execution_count": null,
      "outputs": []
    },
    {
      "cell_type": "code",
      "source": [
        "img"
      ],
      "metadata": {
        "id": "b80OBvcOAZ-u"
      },
      "execution_count": null,
      "outputs": []
    },
    {
      "cell_type": "code",
      "source": [
        "img1=image.load_ing(r\"/home/wsuser/work/Dataset/test_set/C/1.png\")"
      ],
      "metadata": {
        "id": "RkqieW8pAevt"
      },
      "execution_count": null,
      "outputs": []
    },
    {
      "cell_type": "code",
      "source": [
        "img1"
      ],
      "metadata": {
        "id": "nJnjElh9AiAW"
      },
      "execution_count": null,
      "outputs": []
    },
    {
      "cell_type": "code",
      "source": [
        "x=image.img_to_array(img)\n",
        "x"
      ],
      "metadata": {
        "id": "RHXvfe7uAkLt"
      },
      "execution_count": null,
      "outputs": []
    },
    {
      "cell_type": "code",
      "source": [
        "x1=np.expand_dims(x,axis=1)\n",
        "x1"
      ],
      "metadata": {
        "id": "L9NQTOkvAogl"
      },
      "execution_count": null,
      "outputs": []
    },
    {
      "cell_type": "code",
      "source": [
        "y=np.argmax(model.predoct(x),axis=1)\n",
        "y"
      ],
      "metadata": {
        "id": "ZzG4QFCoArJf"
      },
      "execution_count": null,
      "outputs": []
    },
    {
      "cell_type": "code",
      "source": [
        "x_train.class_indices"
      ],
      "metadata": {
        "id": "R5Djczu9At1m"
      },
      "execution_count": null,
      "outputs": []
    },
    {
      "cell_type": "code",
      "source": [
        "index=['A','B','C','D','E','F','G','H','I']"
      ],
      "metadata": {
        "id": "HJgCWxghAwyY"
      },
      "execution_count": null,
      "outputs": []
    },
    {
      "cell_type": "code",
      "source": [
        "index[y[0]]"
      ],
      "metadata": {
        "id": "TrwNKBaTA0FF"
      },
      "execution_count": null,
      "outputs": []
    },
    {
      "cell_type": "code",
      "source": [
        "img=image.load_img(r\"/home/wsuser/work/Dataset/test_set/A/90.png\",target_size=(64,64))\n",
        "x=image.ing_to_array(img)\n",
        "x=np.expand_dims(x,axis=0)\n",
        "y=fnp.argmax(model.predict(x),axis=1)\n",
        "index=['A','B','C','D','E','F','G','H','I']\n",
        "index[y[0]]]"
      ],
      "metadata": {
        "id": "Kz6PYyRgA2v1"
      },
      "execution_count": null,
      "outputs": []
    },
    {
      "cell_type": "code",
      "source": [
        "img=image.load_img( \"/home/wsuser/work/Dataset/test_set/D/1.png\",target_size=(64,64))\n",
        "x=image.ing_to_array(img)\n",
        "x=np.expand_dims(x,axis=0)\n",
        "y=np.argmax(model.predict(x)\n",
        "index=['A','B','C','D','E','F','G','H','I']\n",
        "index[y[0]]"
      ],
      "metadata": {
        "id": "2shw3nPbBL4-"
      },
      "execution_count": null,
      "outputs": []
    },
    {
      "cell_type": "code",
      "source": [
        "img=image.load_img(r\"/content/drive/MyDrive/IBM_PROJECT/Dataset/test_set/G/1.png\",target_size=(64,64))\n",
        "x=image.ing_to_array(img)\n",
        "x=np.expand_dims(x,axisme)\n",
        "y=np.argmax(model.predict(x), axis=1)\n",
        "index=['A','B','C','D','E','F','G','H','I']\n",
        "index[y[0]]"
      ],
      "metadata": {
        "id": "_bnOq3I9BMsu"
      },
      "execution_count": null,
      "outputs": []
    },
    {
      "cell_type": "code",
      "source": [
        "img=image.load_img(r\"/content/drive/MyDrive/IBM_PROJECT/Dataset/test_set/D/1.png\",target_size=(64,64))\n",
        "x-image.ing_to_array(img)\n",
        "x=np.expand_dims(x,axisme)\n",
        "y=np.argmax(model.predict(x), axis=1)\n",
        "index=['A','B','C','D','E','F','G','H','I']\n",
        "index[y[0]]"
      ],
      "metadata": {
        "id": "JXVHVUtFBPO2"
      },
      "execution_count": null,
      "outputs": []
    },
    {
      "cell_type": "code",
      "source": [
        "!tar -zcvf Dataset-classification-model.tgz specially.h5"
      ],
      "metadata": {
        "id": "xqSUslwSBRld"
      },
      "execution_count": null,
      "outputs": []
    },
    {
      "cell_type": "code",
      "source": [
        "import tensorflow as tf\n",
        "tf .__ _version_"
      ],
      "metadata": {
        "id": "m6CnKLGPBV_W"
      },
      "execution_count": null,
      "outputs": []
    },
    {
      "cell_type": "code",
      "source": [
        "!pip install keras == 2.2.4"
      ],
      "metadata": {
        "id": "jpAJgEadBYht"
      },
      "execution_count": null,
      "outputs": []
    },
    {
      "cell_type": "markdown",
      "source": [
        "IBM DEPLOYMENT"
      ],
      "metadata": {
        "id": "pQLm1hUpBeDV"
      }
    },
    {
      "cell_type": "code",
      "source": [
        "!pip install watson-machine-learning-client  "
      ],
      "metadata": {
        "id": "ZVHz7wP4BfN9"
      },
      "execution_count": null,
      "outputs": []
    },
    {
      "cell_type": "code",
      "source": [
        "from ibm_watson_machine learning import APIClient\n",
        "wml_credentials={\n",
        "\"url\":\"https://us-south.ml.cloud.ibm.com\",\n",
        "\"apikey\":\"x91CJTUTrrIfLvrXsKf8yLyI1KHb3JV0Y7Qrwy1zilb2\"\n",
        "}\n",
        "client=APIClient(wml_credentials)"
      ],
      "metadata": {
        "id": "0nbQCmOQBiDt"
      },
      "execution_count": null,
      "outputs": []
    },
    {
      "cell_type": "markdown",
      "source": [
        "CLIENT"
      ],
      "metadata": {
        "id": "moI-6uxYBk3F"
      }
    },
    {
      "cell_type": "code",
      "source": [
        "def guid_space_name(client,animal_deploy):\n",
        "space-client.spaces.get_details()\n",
        "return(next(item for item in space[' resources'] if iten['entity']['name']= animal_deploy)[\"metadata']['id'])"
      ],
      "metadata": {
        "id": "WN4j3t8TBnk-"
      },
      "execution_count": null,
      "outputs": []
    },
    {
      "cell_type": "code",
      "source": [
        "space_uid-guid_space_name(client,'animal_deploy\")\n",
        "print(\"Space UID \"+space_uid)"
      ],
      "metadata": {
        "id": "aUzXtlawBb6d"
      },
      "execution_count": null,
      "outputs": []
    },
    {
      "cell_type": "code",
      "source": [
        "client.set.default_space(space_uid)\n",
        "client,software specifications.list(200)\n",
        "software_space_uid=client.software_specifications.get_uid_by_name('tensorflow_rt22.1-py3.9¹)\n",
        "software_space_uid"
      ],
      "metadata": {
        "id": "ht4WIWU-BrhH"
      },
      "execution_count": null,
      "outputs": []
    },
    {
      "cell_type": "code",
      "source": [
        "model_details=client.repository.store_model(model='Dataset.tgz',meta_props={\n",
        "client.repository.ModelMetaNames.NAME: \"CNN Model Building\",\n",
        "client.repository.ModelMetaNames.TYPE: 'tensorflow_2.7',\n",
        "client.repository.ModelMetaNames.SOFTWARE_SPEC_UID: software_space_uid\n",
        "})\n",
        "model_id=client.repository.get_model_id(model_details)\n"
      ],
      "metadata": {
        "id": "bbSh0FMqBv52"
      },
      "execution_count": null,
      "outputs": []
    },
    {
      "cell_type": "code",
      "source": [
        "model_id"
      ],
      "metadata": {
        "id": "5cT6_bvGBzot"
      },
      "execution_count": null,
      "outputs": []
    }
  ],
  "metadata": {
    "colab": {
      "provenance": []
    },
    "kernelspec": {
      "name": "python3",
      "display_name": "Python 3.9",
      "language": "python"
    },
    "language_info": {
      "name": "python",
      "version": "3.9.13",
      "mimetype": "text/x-python",
      "codemirror_mode": {
        "name": "ipython",
        "version": 3
      },
      "pygments_lexer": "ipython3",
      "nbconvert_exporter": "python",
      "file_extension": ".py"
    }
  },
  "nbformat": 4,
  "nbformat_minor": 0
}