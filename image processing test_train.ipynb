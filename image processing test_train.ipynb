{
 "cells": [
  {
   "cell_type": "code",
   "execution_count": 1,
   "id": "6567025a",
   "metadata": {},
   "outputs": [],
   "source": [
    "import tensorflow as tf"
   ]
  },
  {
   "cell_type": "code",
   "execution_count": 2,
   "id": "3bfe835c",
   "metadata": {},
   "outputs": [],
   "source": [
    "#import keras library\n",
    "import keras"
   ]
  },
  {
   "cell_type": "code",
   "execution_count": 3,
   "id": "6e2805ef",
   "metadata": {},
   "outputs": [],
   "source": [
    "#import ImageDataGenertator class from keras\n",
    "from keras. preprocessing.image import ImageDataGenerator"
   ]
  },
  {
   "cell_type": "code",
   "execution_count": 24,
   "id": "b4b444a1",
   "metadata": {},
   "outputs": [],
   "source": [
    "#define the parameter /arguments for ImageDataGenrator class\n",
    "train_datagen=ImageDataGenerator(rescale=1./255,\n",
    "                               shear_range=0.2,\n",
    "                               zoom_range=0.2,\n",
    "                               horizontal_flip=True)\n",
    "\n",
    "test_data=ImageDataGenerator(rescale=1./255)\n"
   ]
  },
  {
   "cell_type": "raw",
   "id": "301bdf0f",
   "metadata": {},
   "source": [
    "train_datagen = ImageDataGenerator(rescale=1./255,\n",
    "                                  shear_range=0.2,\n",
    "                                  zoom_range=0.2,\n",
    "                                  horizontal_flip=True)"
   ]
  },
  {
   "cell_type": "code",
   "execution_count": 55,
   "id": "1dc159a4",
   "metadata": {},
   "outputs": [
    {
     "name": "stdout",
     "output_type": "stream",
     "text": [
      "Found 15750 images belonging to 9 classes.\n"
     ]
    }
   ],
   "source": [
    "#: Applying ImageDataGenerator functionaly to trainset\n",
    "x_train=train_datagen.flow_from_directory(r\"C:\\Users\\822619104001.AITCS\\Downloads\\Dataset\\training_set\",target_size=(64,64),batch_size=300,class_mode= 'categorical',color_mode = \"grayscale\")"
   ]
  },
  {
   "cell_type": "code",
   "execution_count": null,
   "id": "1c8bbbfc",
   "metadata": {},
   "outputs": [],
   "source": []
  },
  {
   "cell_type": "code",
   "execution_count": 56,
   "id": "e72441cb",
   "metadata": {
    "scrolled": true
   },
   "outputs": [
    {
     "name": "stdout",
     "output_type": "stream",
     "text": [
      "Found 2250 images belonging to 9 classes.\n"
     ]
    }
   ],
   "source": [
    "#: Applying ImageDataGenerator functionaly to testset\n",
    "x_test = test_datagen.flow_from_directory(r\"C:\\Users\\822619104001.AITCS\\Downloads\\Dataset\\test_set\",\n",
    "                                         target_size=(64,64),\n",
    "                                         batch_size=300,\n",
    "                                         class_mode= 'categorical',\n",
    "                                         color_mode = \"grayscale\")"
   ]
  }
 ],
 "metadata": {
  "kernelspec": {
   "display_name": "Python 3 (ipykernel)",
   "language": "python",
   "name": "python3"
  },
  "language_info": {
   "codemirror_mode": {
    "name": "ipython",
    "version": 3
   },
   "file_extension": ".py",
   "mimetype": "text/x-python",
   "name": "python",
   "nbconvert_exporter": "python",
   "pygments_lexer": "ipython3",
   "version": "3.9.13"
  }
 },
 "nbformat": 4,
 "nbformat_minor": 5
}
